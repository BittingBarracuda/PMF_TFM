{
 "cells": [
  {
   "cell_type": "code",
   "execution_count": null,
   "metadata": {},
   "outputs": [],
   "source": [
    "import numpy as np\n",
    "import pandas as pd"
   ]
  },
  {
   "cell_type": "code",
   "execution_count": 5,
   "metadata": {},
   "outputs": [
    {
     "name": "stdout",
     "output_type": "stream",
     "text": [
      "Processing combined_data_1.txt...\n",
      "Processing combined_data_2.txt...\n",
      "Processing combined_data_3.txt...\n",
      "Processing combined_data_4.txt...\n"
     ]
    }
   ],
   "source": [
    "file_name = '../archive/combined_data'\n",
    "movies = []\n",
    "user_ratings = {}\n",
    "current_movie = None\n",
    "\n",
    "for i in range(1, 5):\n",
    "    with open(f'{file_name}_{i}.txt', 'r') as current_file:\n",
    "        print(f'Processing combined_data_{i}.txt...')\n",
    "        for line in current_file.readlines():\n",
    "            elems = line.split(',')\n",
    "            #print(elems)\n",
    "            if len(elems) == 1:\n",
    "                movie = elems[0].strip(':\\n')\n",
    "                movies.append(movie)\n",
    "                current_movie = movie\n",
    "            elif len(elems) == 3:\n",
    "                user_id, user_rating = elems[0], elems[1]\n",
    "                ratings = user_ratings.get(user_id, [])\n",
    "                ratings.append((current_movie, user_rating))\n",
    "                user_ratings[user_id] = ratings\n",
    "\n",
    "print(movies)\n",
    "print(user_ratings)"
   ]
  },
  {
   "cell_type": "code",
   "execution_count": null,
   "metadata": {},
   "outputs": [],
   "source": [
    "data = np.array([[user_ratings[key][1] if user_ratings[key][0] in movies else 0 for movie in movies] for key in user_ratings.keys()], dtype=np.int16)\n",
    "df = pd.DataFrame(data=data, index=list(user_ratings.keys()), columns=movies)\n",
    "df.head()\n"
   ]
  }
 ],
 "metadata": {
  "kernelspec": {
   "display_name": "Python 3",
   "language": "python",
   "name": "python3"
  },
  "language_info": {
   "codemirror_mode": {
    "name": "ipython",
    "version": 3
   },
   "file_extension": ".py",
   "mimetype": "text/x-python",
   "name": "python",
   "nbconvert_exporter": "python",
   "pygments_lexer": "ipython3",
   "version": "3.10.4"
  },
  "orig_nbformat": 4,
  "vscode": {
   "interpreter": {
    "hash": "12749f567798517b8543354a13719bbd42e9e3e56a89ba27a040f4f72d5c2230"
   }
  }
 },
 "nbformat": 4,
 "nbformat_minor": 2
}
